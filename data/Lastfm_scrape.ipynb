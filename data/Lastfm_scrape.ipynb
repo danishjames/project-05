{
 "cells": [
  {
   "cell_type": "code",
   "execution_count": null,
   "metadata": {},
   "outputs": [],
   "source": [
    "import pylast\n",
    "import requests\n",
    "from selenium import webdriver\n",
    "from selenium.webdriver.support.ui import WebDriverWait\n",
    "import pymongo\n",
    "from pymongo import MongoClient\n",
    "import logging\n",
    "import auth"
   ]
  },
  {
   "cell_type": "code",
   "execution_count": null,
   "metadata": {},
   "outputs": [],
   "source": [
    "# Create logger\n",
    "logger = logging.getLogger('lastfm_logger')\n",
    "logger.setLevel(logging.DEBUG)\n",
    "\n",
    "# Create handlers\n",
    "f_handler = logging.FileHandler('debug.log')\n",
    "f_handler.setLevel(logging.DEBUG)\n",
    "\n",
    "# Logging formatter\n",
    "f_format = logging.Formatter('%(asctime)s - %(levelname)s - %(name)s - %(message)s')\n",
    "f_handler.setFormatter(f_format)\n",
    "\n",
    "logger.addHandler(f_handler)"
   ]
  },
  {
   "cell_type": "code",
   "execution_count": null,
   "metadata": {},
   "outputs": [],
   "source": [
    "# Import values from external .py file\n",
    "\n",
    "API_KEY = auth.API_KEY\n",
    "API_SECRET = auth.API_SECRET\n",
    "username = auth.username\n",
    "password = auth.password\n",
    "password_hash = auth.password_hash"
   ]
  },
  {
   "cell_type": "code",
   "execution_count": null,
   "metadata": {},
   "outputs": [],
   "source": [
    "network = pylast.LastFMNetwork(api_key=API_KEY, api_secret=API_SECRET, username=username, password_hash=password_hash)\n",
    "logger.info('Network connection established')"
   ]
  },
  {
   "cell_type": "code",
   "execution_count": null,
   "metadata": {},
   "outputs": [],
   "source": [
    "mongo = MongoClient()\n",
    "\n",
    "db = mongo['project-05']\n",
    "\n",
    "db_user = db['Usernames']"
   ]
  },
  {
   "cell_type": "code",
   "execution_count": null,
   "metadata": {},
   "outputs": [],
   "source": [
    "url_base = 'http://last.fm/music/artist/+listeners?page='\n",
    "pop_artist_list = ['Taylor Swift', 'Selena Gomez', 'Lorde', 'Halsey', 'Lana Del Ray', 'Marina & The Diamonds',\n",
    "                   'Tove Lo', 'Charli XCX', 'Lady Gaga', 'Gwen Stefani', 'Justin Bieber', 'Ed Sheeran', 'Dua Lipa',\n",
    "                   'Ariana Grande', 'Katy Perry', 'Little Mix', 'Shawn Mendes', 'Sam Smith', 'Passenger', 'Adele']\n",
    "rock_artist_list = ['The Beatles', 'Muse', 'Coldplay', 'Nirvana', 'Radiohead', 'Red Hot chili Peppers', 'Queen',\n",
    "                   'Foo Fighters', 'Linkin Park', 'Led Zeppelin', 'Pink Floyd', 'The Rolling Stones', 'Green Day',\n",
    "                   'The Killers', 'Oasis', 'Green Day', 'The Doors', 'Aerosmith', 'Pearl Jam', 'The Strokes']\n",
    "rap_artist_list = ['Eminem', 'Kanye West', '2Pac', 'Snoop Dogg', 'Nas', '50 Cent', 'Kendrick Lamar', 'OutKast',\n",
    "                   'Ludacris', 'Fort Minor', 'The Roots', 'Ice Cube', 'DMX', 'Mos Def', 'Lupe Fiasco', 'Nelly', \n",
    "                   'Nicki Minaj', 'Drake', 'Coolio', 'Rick Ross', 'Rakim', 'Warren G']\n",
    "\n"
   ]
  },
  {
   "cell_type": "code",
   "execution_count": null,
   "metadata": {},
   "outputs": [],
   "source": [
    "def url_list(artist_list):\n",
    "    url_list = []\n",
    "\n",
    "    for artist in artist_list:\n",
    "        for i in range(1, 10):\n",
    "            url_list.append(url_base.replace('artist',artist.replace(' ', '+'))+str(i))\n",
    "            \n",
    "    return url_list           "
   ]
  },
  {
   "cell_type": "code",
   "execution_count": null,
   "metadata": {},
   "outputs": [],
   "source": [
    "def follower_scrape(url):\n",
    "    username_list = []\n",
    "    \n",
    "    browser.get(url)\n",
    "    \n",
    "    for i in range(1,32):\n",
    "        xpath = '//*[@id=\"mantle_skin\"]/div[3]/div[2]/div[1]/div/ol/li[{}]/div/h3/a'.format(i)\n",
    "        try:\n",
    "            temp_username = browser.find_elements_by_xpath(xpath)[0].text\n",
    "            if db_user.count_documents({'Username': temp_username}, limit=1) != 0:\n",
    "                pass\n",
    "            else:\n",
    "                username_list.append(temp_username)\n",
    "            logger.debug(f'{i} completed')\n",
    "        except IndexError:\n",
    "            logger.error(f'Index error at {i}, skipping...')\n",
    "    \n",
    "    return username_list"
   ]
  },
  {
   "cell_type": "code",
   "execution_count": null,
   "metadata": {},
   "outputs": [],
   "source": [
    "browser = webdriver.Firefox()\n",
    "browser.get('http://secure.last.fm/login')\n",
    "\n",
    "username1 = browser.find_element_by_id('id_username')\n",
    "password1 = browser.find_element_by_id('id_password')\n",
    "submit = browser.find_element_by_name('submit')\n",
    "\n",
    "username1.send_keys(username)\n",
    "password1.send_keys(password)\n",
    "\n",
    "submit.click()"
   ]
  },
  {
   "cell_type": "code",
   "execution_count": null,
   "metadata": {},
   "outputs": [],
   "source": [
    "result_list = []\n",
    "\n",
    "pop = url_list(pop_artist_list)\n",
    "\n",
    "rock = url_list(rock_artist_list)\n",
    "\n",
    "rap = url_list(rap_artist_list)\n",
    "\n",
    "for url in pop:    \n",
    "    result_list = result_list + follower_scrape(url)\n",
    "\n",
    "for url in rock:\n",
    "    result_list = result_list + follower_scrape(url)\n",
    "    \n",
    "for url in rap:\n",
    "    result_list = result_list + follower_scrape(url)"
   ]
  },
  {
   "cell_type": "code",
   "execution_count": null,
   "metadata": {},
   "outputs": [],
   "source": [
    "browser.quit()"
   ]
  },
  {
   "cell_type": "code",
   "execution_count": null,
   "metadata": {},
   "outputs": [],
   "source": [
    "un_list = set(result_list)"
   ]
  },
  {
   "cell_type": "code",
   "execution_count": null,
   "metadata": {},
   "outputs": [],
   "source": [
    "def user_top_tracks(username, limit, playcount):\n",
    "    try:\n",
    "        user = network.get_user(username)\n",
    "\n",
    "        top_temp = user.get_top_tracks(limit=limit)\n",
    "        top = []\n",
    "\n",
    "        if limit > len(top_temp):\n",
    "            limit = len(top_temp)\n",
    "\n",
    "        for i in range(limit):\n",
    "            if top_temp[i].weight <= playcount:\n",
    "                logger.debug('Song Range Limit reached; terminating process...')\n",
    "                break\n",
    "            else:\n",
    "                top.append((top_temp[i].item.title, top_temp[i].item.artist.get_name(), top_temp[i].weight))\n",
    "                logger.debug(f'{i + 1} completed, {limit - i - 1} remaining')\n",
    "\n",
    "        return top\n",
    "    except:\n",
    "        logger.error('User not found')\n",
    "        pass"
   ]
  },
  {
   "cell_type": "code",
   "execution_count": null,
   "metadata": {},
   "outputs": [],
   "source": [
    "for follower in un_list:\n",
    "    if db_user.count_documents({'Username': follower}, limit=1) != 0:\n",
    "        print('{} is already listed'.format(follower))\n",
    "        pass\n",
    "    else:\n",
    "        db_user.insert_one({'Username': follower, 'Tracks': user_top_tracks(follower, 750, 10)})\n",
    "        print('{} added.'.format(follower))"
   ]
  },
  {
   "cell_type": "code",
   "execution_count": null,
   "metadata": {},
   "outputs": [],
   "source": []
  }
 ],
 "metadata": {
  "kernelspec": {
   "display_name": "Python [conda env:metis] *",
   "language": "python",
   "name": "conda-env-metis-py"
  },
  "language_info": {
   "codemirror_mode": {
    "name": "ipython",
    "version": 3
   },
   "file_extension": ".py",
   "mimetype": "text/x-python",
   "name": "python",
   "nbconvert_exporter": "python",
   "pygments_lexer": "ipython3",
   "version": "3.7.3"
  }
 },
 "nbformat": 4,
 "nbformat_minor": 2
}
