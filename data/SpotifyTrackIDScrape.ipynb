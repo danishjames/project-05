{
 "cells": [
  {
   "cell_type": "code",
   "execution_count": null,
   "metadata": {},
   "outputs": [],
   "source": [
    "import spotipy\n",
    "from spotipy.oauth2 import SpotifyClientCredentials\n",
    "from spotipy import util\n",
    "import pandas as pd\n",
    "import numpy as np\n",
    "import pymongo\n",
    "from pymongo import MongoClient\n",
    "import auth"
   ]
  },
  {
   "cell_type": "code",
   "execution_count": null,
   "metadata": {},
   "outputs": [],
   "source": [
    "mongo = MongoClient()\n",
    "\n",
    "db = mongo['project-05']\n",
    "\n",
    "db_user = db['Usernames']"
   ]
  },
  {
   "cell_type": "code",
   "execution_count": null,
   "metadata": {},
   "outputs": [],
   "source": [
    "client_id = auth.client_id\n",
    "client_secret = auth.client_secret\n",
    "username = auth.sp_username\n",
    "scope = auth.scope\n",
    "redirect_uri = auth.redirect_uri\n",
    "\n",
    "client_credentials_manager = SpotifyClientCredentials(client_id=client_id, client_secret=client_secret)\n",
    "sp = spotipy.Spotify(client_credentials_manager=client_credentials_manager)\n",
    "token = util.prompt_for_user_token(username, scope, client_id, client_secret, redirect_uri)\n",
    "\n",
    "if token:\n",
    "    sp = spotipy.Spotify(auth=token)\n",
    "    print('Token acquired')\n",
    "else:\n",
    "    print(\"Can't get token for\", username)"
   ]
  },
  {
   "cell_type": "code",
   "execution_count": null,
   "metadata": {},
   "outputs": [],
   "source": [
    "tracks_df = pd.DataFrame(columns=['Artist', 'Song Title', 'Track ID'])"
   ]
  },
  {
   "cell_type": "code",
   "execution_count": null,
   "metadata": {},
   "outputs": [],
   "source": [
    "cursor = db_user.find(batch_size=50, limit=6000, no_cursor_timeout=True)\n",
    "\n",
    "for document in cursor:\n",
    "    for i in range(len(document['Tracks'])):\n",
    "        try:\n",
    "            song = document['Tracks'][i][0]\n",
    "            artist = document['Tracks'][i][1]\n",
    "\n",
    "            query = song + ' ' + artist\n",
    "\n",
    "            search = sp.search(q=query, limit=15, type='track')\n",
    "            \n",
    "            if search['tracks']['items'] is None or len(search['tracks']['items']) == 0:\n",
    "                pass\n",
    "            else:\n",
    "                song_id = search['tracks']['items'][0]['id']\n",
    "                series = pd.Series([artist, song, song_id], index=tracks_df.columns)\n",
    "                tracks_df = tracks_df.append(series, ignore_index=True)\n",
    "                \n",
    "        except IndexError:\n",
    "            print('There was an error at {}'.format(i))\n",
    "            print(document['Tracks'][i])\n",
    "            \n",
    "            \n",
    "cursor.close()"
   ]
  },
  {
   "cell_type": "code",
   "execution_count": null,
   "metadata": {},
   "outputs": [],
   "source": [
    "tracks_df.dropna(subset=['Track ID'], inplace=True)\n",
    "tracks_df.drop_duplicates(subset=['Track ID'], keep='first', inplace=True)"
   ]
  },
  {
   "cell_type": "code",
   "execution_count": null,
   "metadata": {},
   "outputs": [],
   "source": [
    "tracks_df.to_pickle('./track_dump.pkl')"
   ]
  },
  {
   "cell_type": "code",
   "execution_count": null,
   "metadata": {},
   "outputs": [],
   "source": []
  }
 ],
 "metadata": {
  "kernelspec": {
   "display_name": "Python [conda env:metis] *",
   "language": "python",
   "name": "conda-env-metis-py"
  },
  "language_info": {
   "codemirror_mode": {
    "name": "ipython",
    "version": 3
   },
   "file_extension": ".py",
   "mimetype": "text/x-python",
   "name": "python",
   "nbconvert_exporter": "python",
   "pygments_lexer": "ipython3",
   "version": "3.7.3"
  }
 },
 "nbformat": 4,
 "nbformat_minor": 2
}
